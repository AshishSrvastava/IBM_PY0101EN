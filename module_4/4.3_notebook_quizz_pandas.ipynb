{
 "cells": [
  {
   "cell_type": "markdown",
   "metadata": {},
   "source": [
    "<h3> Get to Know a numpy Array </h3>"
   ]
  },
  {
   "cell_type": "markdown",
   "metadata": {},
   "source": [
    "You will use the dataframe <code>df</code> for the following:"
   ]
  },
  {
   "cell_type": "code",
   "execution_count": 1,
   "metadata": {},
   "outputs": [],
   "source": [
    "import pandas as pd\n",
    "\n",
    "df=pd.DataFrame({'a':[11,21,31],'b':[21,22,23]})\n"
   ]
  },
  {
   "cell_type": "markdown",
   "metadata": {},
   "source": [
    "1) plot the first three rows:"
   ]
  },
  {
   "cell_type": "code",
   "execution_count": 2,
   "metadata": {},
   "outputs": [
    {
     "output_type": "execute_result",
     "data": {
      "text/plain": "    a   b\n0  11  21\n1  21  22\n2  31  23",
      "text/html": "<div>\n<style scoped>\n    .dataframe tbody tr th:only-of-type {\n        vertical-align: middle;\n    }\n\n    .dataframe tbody tr th {\n        vertical-align: top;\n    }\n\n    .dataframe thead th {\n        text-align: right;\n    }\n</style>\n<table border=\"1\" class=\"dataframe\">\n  <thead>\n    <tr style=\"text-align: right;\">\n      <th></th>\n      <th>a</th>\n      <th>b</th>\n    </tr>\n  </thead>\n  <tbody>\n    <tr>\n      <th>0</th>\n      <td>11</td>\n      <td>21</td>\n    </tr>\n    <tr>\n      <th>1</th>\n      <td>21</td>\n      <td>22</td>\n    </tr>\n    <tr>\n      <th>2</th>\n      <td>31</td>\n      <td>23</td>\n    </tr>\n  </tbody>\n</table>\n</div>"
     },
     "metadata": {},
     "execution_count": 2
    }
   ],
   "source": [
    "df.head(3)"
   ]
  },
  {
   "cell_type": "markdown",
   "metadata": {},
   "source": [
    "2) obtain column  <code> 'a' </code>"
   ]
  },
  {
   "cell_type": "code",
   "execution_count": 3,
   "metadata": {
    "collapsed": false
   },
   "outputs": [
    {
     "output_type": "execute_result",
     "data": {
      "text/plain": "0    11\n1    21\n2    31\nName: a, dtype: int64"
     },
     "metadata": {},
     "execution_count": 3
    }
   ],
   "source": [
    "df['a']"
   ]
  },
  {
   "cell_type": "markdown",
   "metadata": {},
   "source": [
    "<hr>\n",
    "<small>Copyright &copy; 2018 IBM Cognitive Class. This notebook and its source code are released under the terms of the [MIT License](https://cognitiveclass.ai/mit-license/).</small>"
   ]
  },
  {
   "cell_type": "markdown",
   "metadata": {},
   "source": [
    "Using loc, iloc and ix\n",
    "There are three ways to select data from a data frame in Pandas: loc, iloc, and ix. \n",
    "\n",
    "loc\n",
    "loc is primarily label based; when two arguments are used, you use column headers and row indexes to select the data you want. loc can also take an integer as a row or column number.\n",
    "\n",
    "Examples of loc usage:\n",
    "\n",
    "loc usage image\n",
    "loc will return a KeyError if the requested items are not found.\n",
    "\n",
    "iloc \n",
    "iloc is integer-based. You use column numbers and row numbers to get rows or columns at particular positions in the data frame. \n",
    "\n",
    "Examples of iloc usage:\n",
    "\n",
    "iloc usage\n",
    "iloc will return an IndexError if the requested indexer is out-of-bounds.\n",
    "\n",
    "ix\n",
    "By default, ix looks for a label. If ix doesn't find a label, it will use an integer. This means you can select data by using either column numbers and row numbers or column headers and row names using ix.\n",
    "\n",
    "In Pandas version 0.20.0 and later, ix is deprecated.\n",
    "\n",
    "Using loc and iloc for slicing\n",
    "You can also use loc and iloc to slice data frames and assign the values to a new data frame. \n",
    "\n",
    "Creating a new dataframe with loc slicing\n",
    "You can also slice data frames and assign the values to a new data frame using the column names. The code assigns the first three rows and all columns in between to the columns named Artist and Released. The result is a new data frame Z with the corresponding values.\n",
    "\n",
    "loc slicing\n",
    "Creating a new dataframe with iloc slicing\n",
    "In this example, we assign the first two rows and the first three columns to the variable Z. The result is a data frame comprised of the selected rows and columns. \n",
    "\n",
    "iloc slicing"
   ]
  }
 ],
 "metadata": {
  "kernelspec": {
   "display_name": "Python 3",
   "language": "python",
   "name": "python3"
  },
  "language_info": {
   "codemirror_mode": {
    "name": "ipython",
    "version": 3
   },
   "file_extension": ".py",
   "mimetype": "text/x-python",
   "name": "python",
   "nbconvert_exporter": "python",
   "pygments_lexer": "ipython3",
   "version": "3.6.5"
  }
 },
 "nbformat": 4,
 "nbformat_minor": 2
}